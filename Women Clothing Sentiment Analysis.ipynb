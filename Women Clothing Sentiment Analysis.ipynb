{
 "cells": [
  {
   "cell_type": "code",
   "execution_count": 1,
   "metadata": {},
   "outputs": [],
   "source": [
    "import pandas as pd"
   ]
  },
  {
   "cell_type": "code",
   "execution_count": 2,
   "metadata": {},
   "outputs": [
    {
     "data": {
      "text/html": [
       "<div>\n",
       "<style scoped>\n",
       "    .dataframe tbody tr th:only-of-type {\n",
       "        vertical-align: middle;\n",
       "    }\n",
       "\n",
       "    .dataframe tbody tr th {\n",
       "        vertical-align: top;\n",
       "    }\n",
       "\n",
       "    .dataframe thead th {\n",
       "        text-align: right;\n",
       "    }\n",
       "</style>\n",
       "<table border=\"1\" class=\"dataframe\">\n",
       "  <thead>\n",
       "    <tr style=\"text-align: right;\">\n",
       "      <th></th>\n",
       "      <th>Unnamed: 0</th>\n",
       "      <th>Clothing ID</th>\n",
       "      <th>Age</th>\n",
       "      <th>Title</th>\n",
       "      <th>Review Text</th>\n",
       "      <th>Rating</th>\n",
       "      <th>Recommended IND</th>\n",
       "      <th>Positive Feedback Count</th>\n",
       "      <th>Division Name</th>\n",
       "      <th>Department Name</th>\n",
       "      <th>Class Name</th>\n",
       "    </tr>\n",
       "  </thead>\n",
       "  <tbody>\n",
       "    <tr>\n",
       "      <th>0</th>\n",
       "      <td>0</td>\n",
       "      <td>767</td>\n",
       "      <td>33</td>\n",
       "      <td>NaN</td>\n",
       "      <td>Absolutely wonderful - silky and sexy and comf...</td>\n",
       "      <td>4</td>\n",
       "      <td>1</td>\n",
       "      <td>0</td>\n",
       "      <td>Initmates</td>\n",
       "      <td>Intimate</td>\n",
       "      <td>Intimates</td>\n",
       "    </tr>\n",
       "    <tr>\n",
       "      <th>1</th>\n",
       "      <td>1</td>\n",
       "      <td>1080</td>\n",
       "      <td>34</td>\n",
       "      <td>NaN</td>\n",
       "      <td>Love this dress!  it's sooo pretty.  i happene...</td>\n",
       "      <td>5</td>\n",
       "      <td>1</td>\n",
       "      <td>4</td>\n",
       "      <td>General</td>\n",
       "      <td>Dresses</td>\n",
       "      <td>Dresses</td>\n",
       "    </tr>\n",
       "    <tr>\n",
       "      <th>2</th>\n",
       "      <td>2</td>\n",
       "      <td>1077</td>\n",
       "      <td>60</td>\n",
       "      <td>Some major design flaws</td>\n",
       "      <td>I had such high hopes for this dress and reall...</td>\n",
       "      <td>3</td>\n",
       "      <td>0</td>\n",
       "      <td>0</td>\n",
       "      <td>General</td>\n",
       "      <td>Dresses</td>\n",
       "      <td>Dresses</td>\n",
       "    </tr>\n",
       "    <tr>\n",
       "      <th>3</th>\n",
       "      <td>3</td>\n",
       "      <td>1049</td>\n",
       "      <td>50</td>\n",
       "      <td>My favorite buy!</td>\n",
       "      <td>I love, love, love this jumpsuit. it's fun, fl...</td>\n",
       "      <td>5</td>\n",
       "      <td>1</td>\n",
       "      <td>0</td>\n",
       "      <td>General Petite</td>\n",
       "      <td>Bottoms</td>\n",
       "      <td>Pants</td>\n",
       "    </tr>\n",
       "    <tr>\n",
       "      <th>4</th>\n",
       "      <td>4</td>\n",
       "      <td>847</td>\n",
       "      <td>47</td>\n",
       "      <td>Flattering shirt</td>\n",
       "      <td>This shirt is very flattering to all due to th...</td>\n",
       "      <td>5</td>\n",
       "      <td>1</td>\n",
       "      <td>6</td>\n",
       "      <td>General</td>\n",
       "      <td>Tops</td>\n",
       "      <td>Blouses</td>\n",
       "    </tr>\n",
       "  </tbody>\n",
       "</table>\n",
       "</div>"
      ],
      "text/plain": [
       "   Unnamed: 0  Clothing ID  Age                    Title  \\\n",
       "0           0          767   33                      NaN   \n",
       "1           1         1080   34                      NaN   \n",
       "2           2         1077   60  Some major design flaws   \n",
       "3           3         1049   50         My favorite buy!   \n",
       "4           4          847   47         Flattering shirt   \n",
       "\n",
       "                                         Review Text  Rating  Recommended IND  \\\n",
       "0  Absolutely wonderful - silky and sexy and comf...       4                1   \n",
       "1  Love this dress!  it's sooo pretty.  i happene...       5                1   \n",
       "2  I had such high hopes for this dress and reall...       3                0   \n",
       "3  I love, love, love this jumpsuit. it's fun, fl...       5                1   \n",
       "4  This shirt is very flattering to all due to th...       5                1   \n",
       "\n",
       "   Positive Feedback Count   Division Name Department Name Class Name  \n",
       "0                        0       Initmates        Intimate  Intimates  \n",
       "1                        4         General         Dresses    Dresses  \n",
       "2                        0         General         Dresses    Dresses  \n",
       "3                        0  General Petite         Bottoms      Pants  \n",
       "4                        6         General            Tops    Blouses  "
      ]
     },
     "execution_count": 2,
     "metadata": {},
     "output_type": "execute_result"
    }
   ],
   "source": [
    "data=pd.read_csv(\"Womens Clothing E-Commerce Reviews.csv\")\n",
    "data.head()"
   ]
  },
  {
   "cell_type": "code",
   "execution_count": 4,
   "metadata": {},
   "outputs": [
    {
     "data": {
      "text/plain": [
       "Unnamed: 0                    0\n",
       "Clothing ID                   0\n",
       "Age                           0\n",
       "Title                      3810\n",
       "Review Text                 845\n",
       "Rating                        0\n",
       "Recommended IND               0\n",
       "Positive Feedback Count       0\n",
       "Division Name                14\n",
       "Department Name              14\n",
       "Class Name                   14\n",
       "dtype: int64"
      ]
     },
     "execution_count": 4,
     "metadata": {},
     "output_type": "execute_result"
    }
   ],
   "source": [
    "data.isnull().sum()"
   ]
  },
  {
   "cell_type": "code",
   "execution_count": 5,
   "metadata": {},
   "outputs": [],
   "source": [
    "data.dropna(axis=0,inplace=True)"
   ]
  },
  {
   "cell_type": "code",
   "execution_count": 6,
   "metadata": {},
   "outputs": [],
   "source": [
    "x=data[\"Review Text\"]\n",
    "y=data[\"Rating\"]"
   ]
  },
  {
   "cell_type": "code",
   "execution_count": 7,
   "metadata": {},
   "outputs": [
    {
     "data": {
      "text/plain": [
       "0"
      ]
     },
     "execution_count": 7,
     "metadata": {},
     "output_type": "execute_result"
    }
   ],
   "source": [
    "x.isnull().sum()"
   ]
  },
  {
   "cell_type": "code",
   "execution_count": 8,
   "metadata": {},
   "outputs": [
    {
     "data": {
      "text/plain": [
       "0"
      ]
     },
     "execution_count": 8,
     "metadata": {},
     "output_type": "execute_result"
    }
   ],
   "source": [
    "y.isnull().sum()"
   ]
  },
  {
   "cell_type": "code",
   "execution_count": 9,
   "metadata": {},
   "outputs": [
    {
     "data": {
      "text/plain": [
       "2    I had such high hopes for this dress and reall...\n",
       "3    I love, love, love this jumpsuit. it's fun, fl...\n",
       "4    This shirt is very flattering to all due to th...\n",
       "5    I love tracy reese dresses, but this one is no...\n",
       "6    I aded this in my basket at hte last mintue to...\n",
       "Name: Review Text, dtype: object"
      ]
     },
     "execution_count": 9,
     "metadata": {},
     "output_type": "execute_result"
    }
   ],
   "source": [
    "x.head()"
   ]
  },
  {
   "cell_type": "code",
   "execution_count": 10,
   "metadata": {},
   "outputs": [
    {
     "data": {
      "text/plain": [
       "2    3\n",
       "3    5\n",
       "4    5\n",
       "5    2\n",
       "6    5\n",
       "Name: Rating, dtype: int64"
      ]
     },
     "execution_count": 10,
     "metadata": {},
     "output_type": "execute_result"
    }
   ],
   "source": [
    "y.head()"
   ]
  },
  {
   "cell_type": "code",
   "execution_count": 11,
   "metadata": {},
   "outputs": [],
   "source": [
    "from sklearn.model_selection import train_test_split\n",
    "xtrain,xtest,ytrain,ytest=train_test_split(x,y,test_size=0.2,random_state=10)"
   ]
  },
  {
   "cell_type": "code",
   "execution_count": 12,
   "metadata": {},
   "outputs": [],
   "source": [
    "from sklearn.pipeline import Pipeline\n",
    "from sklearn.feature_extraction.text import TfidfVectorizer\n",
    "from sklearn.naive_bayes import MultinomialNB"
   ]
  },
  {
   "cell_type": "code",
   "execution_count": 13,
   "metadata": {},
   "outputs": [],
   "source": [
    "text_clf=Pipeline([('vect',TfidfVectorizer()),('clf',MultinomialNB())])"
   ]
  },
  {
   "cell_type": "code",
   "execution_count": 14,
   "metadata": {},
   "outputs": [],
   "source": [
    "text_clf.fit(xtrain,ytrain)\n",
    "predicted=text_clf.predict(xtest)\n",
    "\n"
   ]
  },
  {
   "cell_type": "code",
   "execution_count": 16,
   "metadata": {},
   "outputs": [
    {
     "data": {
      "text/plain": [
       "15648    Picked this darling vest in a medium. i have b...\n",
       "4967     I just received this in the mail today and hav...\n",
       "23297    Love the way these pants fit. love the length....\n",
       "7617     This blouse is the definition of how to wear p...\n",
       "6271     This top is so soft and with a henley neck ope...\n",
       "929      An interesting design in a high-quality garmen...\n",
       "414      Love this tunic, it's super comfy & cute. i ha...\n",
       "8221     Interestingly, the description said this was b...\n",
       "16776    I had been searching for an almost 50s style d...\n",
       "3250     This caught my eye straight away and it hasn't...\n",
       "4559     I got the dark blue print which is a really pr...\n",
       "10366    I was really hoping that this dress would fit ...\n",
       "9        I'm 5\"5' and 125 lbs. i ordered the s petite t...\n",
       "21817    This looked more fitted on the model. the xs w...\n",
       "10695    Fabulous dress!\\r\\nclip off the tags because t...\n",
       "13512    This jumpsuit is great! i finally found a jump...\n",
       "12794    I would not have tried this on or ordered it b...\n",
       "19045    Love this piece. can be worn casual or fancy. ...\n",
       "10229    This vest is the best!! even though it has no ...\n",
       "10795    I ordered the xxs because it seems like a flow...\n",
       "22493    The photo misrepresents how large this sweater...\n",
       "18284    The fabric is very light weight, more of a shi...\n",
       "18493    I had this in my wish list a long time, ten wh...\n",
       "23039    I tried this on when i saw it hanging in the d...\n",
       "20785    I bought the black version of this dress. look...\n",
       "14060    Oh how i love this dress! i was pleasantly sur...\n",
       "578      Was drawn to this dress in the store. my locat...\n",
       "5813     I so wanted to keep this, but the xs was even ...\n",
       "17223    Unfortunately, i will need to exchange for a b...\n",
       "8360     I am 5ft 8in and about 140lbs-athletic busty b...\n",
       "                               ...                        \n",
       "16240    I thought this top had shimmery dots, that is ...\n",
       "16783    This is all around, a pretty feminine take on ...\n",
       "10238    This si=hirt actually has a shimmer to the fab...\n",
       "22988    I love the lace on this top, it's perfect. it'...\n",
       "16468    This sweater is substantial, well-made, fabric...\n",
       "13551    I'm 5 9 with a slender build but have always f...\n",
       "10942    I love this dress. i get so many compliments f...\n",
       "2295     Perfect fit, great material, torn in just the ...\n",
       "16092    Love this zip cardigan with removable faux fur...\n",
       "2859     ...the print is so sharking, and i love the wa...\n",
       "7871     I bought this dress on super sale and it was s...\n",
       "17758    This is a very sexy suit. it took some time to...\n",
       "16439    I am 5'2\" and 125 pounds and wear a 4p. i orde...\n",
       "13631    Unlike the other two reviews , i found this dr...\n",
       "17259    This top is my new favorite. i thought it migh...\n",
       "13191    This dress is so flattering and comfortable. i...\n",
       "3619     I ordered this dress in both a petite xs and r...\n",
       "21661    I couldn't be happier with this skirt! i was e...\n",
       "19135    I'm usually a 12, or size l in retailer and wh...\n",
       "17564    Dress is pretty, i was disappointed by the sli...\n",
       "4625     If you haven't yet joined the jumpsuit bandwag...\n",
       "21698    I love the flowy-beachy look of this jumpsuit,...\n",
       "8437     This dress is truly a no brainer purchase! it ...\n",
       "10029    I am a huge fan of pilcro pants, and was so ex...\n",
       "17998    Love this dress. i'm wearing it as a bridesmai...\n",
       "1155     I tried this jumpsuit on in the store and love...\n",
       "11879    I ordered this online and was surprised to see...\n",
       "7864     Just got this and i haven't taken it off all n...\n",
       "10585    This top is really comfortable but dressy enou...\n",
       "9462     Haven't seen a top as fun and unique as this w...\n",
       "Name: Review Text, Length: 3933, dtype: object"
      ]
     },
     "execution_count": 16,
     "metadata": {},
     "output_type": "execute_result"
    }
   ],
   "source": [
    "xtest"
   ]
  },
  {
   "cell_type": "code",
   "execution_count": 17,
   "metadata": {},
   "outputs": [
    {
     "data": {
      "text/plain": [
       "15648    4\n",
       "4967     5\n",
       "23297    5\n",
       "7617     5\n",
       "6271     5\n",
       "929      5\n",
       "414      5\n",
       "8221     5\n",
       "16776    5\n",
       "3250     5\n",
       "4559     4\n",
       "10366    3\n",
       "9        5\n",
       "21817    4\n",
       "10695    5\n",
       "13512    5\n",
       "12794    5\n",
       "19045    5\n",
       "10229    5\n",
       "10795    5\n",
       "22493    1\n",
       "18284    5\n",
       "18493    4\n",
       "23039    4\n",
       "20785    4\n",
       "14060    5\n",
       "578      3\n",
       "5813     4\n",
       "17223    5\n",
       "8360     5\n",
       "        ..\n",
       "16240    3\n",
       "16783    4\n",
       "10238    4\n",
       "22988    5\n",
       "16468    5\n",
       "13551    5\n",
       "10942    5\n",
       "2295     5\n",
       "16092    5\n",
       "2859     3\n",
       "7871     3\n",
       "17758    4\n",
       "16439    5\n",
       "13631    2\n",
       "17259    5\n",
       "13191    5\n",
       "3619     5\n",
       "21661    5\n",
       "19135    3\n",
       "17564    2\n",
       "4625     5\n",
       "21698    5\n",
       "8437     5\n",
       "10029    3\n",
       "17998    5\n",
       "1155     5\n",
       "11879    3\n",
       "7864     5\n",
       "10585    5\n",
       "9462     5\n",
       "Name: Rating, Length: 3933, dtype: int64"
      ]
     },
     "execution_count": 17,
     "metadata": {},
     "output_type": "execute_result"
    }
   ],
   "source": [
    "ytest"
   ]
  }
 ],
 "metadata": {
  "kernelspec": {
   "display_name": "Python 3",
   "language": "python",
   "name": "python3"
  },
  "language_info": {
   "codemirror_mode": {
    "name": "ipython",
    "version": 3
   },
   "file_extension": ".py",
   "mimetype": "text/x-python",
   "name": "python",
   "nbconvert_exporter": "python",
   "pygments_lexer": "ipython3",
   "version": "3.7.1"
  }
 },
 "nbformat": 4,
 "nbformat_minor": 2
}
